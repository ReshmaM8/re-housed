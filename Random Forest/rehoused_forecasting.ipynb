{
  "nbformat": 4,
  "nbformat_minor": 0,
  "metadata": {
    "colab": {
      "provenance": []
    },
    "kernelspec": {
      "name": "python3",
      "display_name": "Python 3"
    },
    "language_info": {
      "name": "python"
    }
  },
  "cells": [
    {
      "cell_type": "markdown",
      "source": [
        "# Install and Import\n"
      ],
      "metadata": {
        "id": "u8FDxDxwSQTs"
      }
    },
    {
      "cell_type": "code",
      "execution_count": 1,
      "metadata": {
        "colab": {
          "base_uri": "https://localhost:8080/"
        },
        "id": "3KrdtSic37aA",
        "outputId": "4931840b-21f5-4586-c593-7dc4350917bb"
      },
      "outputs": [
        {
          "output_type": "stream",
          "name": "stdout",
          "text": [
            "Requirement already satisfied: geopandas in /usr/local/lib/python3.11/dist-packages (1.0.1)\n",
            "Requirement already satisfied: shapely in /usr/local/lib/python3.11/dist-packages (2.1.1)\n",
            "Requirement already satisfied: pyproj in /usr/local/lib/python3.11/dist-packages (3.7.1)\n",
            "Requirement already satisfied: rtree in /usr/local/lib/python3.11/dist-packages (1.4.0)\n",
            "Requirement already satisfied: numpy>=1.22 in /usr/local/lib/python3.11/dist-packages (from geopandas) (2.0.2)\n",
            "Requirement already satisfied: pyogrio>=0.7.2 in /usr/local/lib/python3.11/dist-packages (from geopandas) (0.11.0)\n",
            "Requirement already satisfied: packaging in /usr/local/lib/python3.11/dist-packages (from geopandas) (24.2)\n",
            "Requirement already satisfied: pandas>=1.4.0 in /usr/local/lib/python3.11/dist-packages (from geopandas) (2.2.2)\n",
            "Requirement already satisfied: certifi in /usr/local/lib/python3.11/dist-packages (from pyproj) (2025.6.15)\n",
            "Requirement already satisfied: python-dateutil>=2.8.2 in /usr/local/lib/python3.11/dist-packages (from pandas>=1.4.0->geopandas) (2.9.0.post0)\n",
            "Requirement already satisfied: pytz>=2020.1 in /usr/local/lib/python3.11/dist-packages (from pandas>=1.4.0->geopandas) (2025.2)\n",
            "Requirement already satisfied: tzdata>=2022.7 in /usr/local/lib/python3.11/dist-packages (from pandas>=1.4.0->geopandas) (2025.2)\n",
            "Requirement already satisfied: six>=1.5 in /usr/local/lib/python3.11/dist-packages (from python-dateutil>=2.8.2->pandas>=1.4.0->geopandas) (1.17.0)\n"
          ]
        }
      ],
      "source": [
        "# Install necessary packages\n",
        "!pip install geopandas shapely pyproj rtree\n",
        "\n",
        "# Import libraries\n",
        "import geopandas as gpd\n",
        "import pandas as pd\n",
        "import numpy as np\n",
        "from shapely.geometry import box\n",
        "from sklearn.ensemble import RandomForestClassifier\n",
        "from sklearn.utils import resample\n",
        "from sklearn.metrics import roc_auc_score, classification_report"
      ]
    },
    {
      "cell_type": "markdown",
      "source": [
        "# Load and Geocode Encampments"
      ],
      "metadata": {
        "id": "dqBe8wK4SchN"
      }
    },
    {
      "cell_type": "code",
      "source": [
        "# Load encampment data\n",
        "encampments = pd.read_csv('rehoused-encampments.csv')\n",
        "\n",
        "# Create GeoDataFrame and project to UTM for meters\n",
        "encampments_gdf = gpd.GeoDataFrame(\n",
        "    encampments,\n",
        "    geometry=gpd.points_from_xy(encampments['lon'], encampments['lat']),\n",
        "    crs=\"EPSG:4326\"\n",
        ").to_crs(epsg=32617)  # UTM zone for accurate distance in meters"
      ],
      "metadata": {
        "id": "wga1S_9y4tPq"
      },
      "execution_count": 2,
      "outputs": []
    },
    {
      "cell_type": "markdown",
      "source": [
        "# Create Spatial Grid"
      ],
      "metadata": {
        "id": "qRDbmQ5WShs_"
      }
    },
    {
      "cell_type": "code",
      "source": [
        "# Create grid cells over encampment area\n",
        "xmin, ymin, xmax, ymax = encampments_gdf.total_bounds\n",
        "grid_size = 100  # 100 meter grid cells\n",
        "\n",
        "cols = np.arange(xmin, xmax + grid_size, grid_size)\n",
        "rows = np.arange(ymin, ymax + grid_size, grid_size)\n",
        "\n",
        "polys = []\n",
        "for x in cols:\n",
        "    for y in rows:\n",
        "        polys.append(box(x, y, x + grid_size, y + grid_size))\n",
        "\n",
        "grid = gpd.GeoDataFrame({'geometry': polys}, crs=encampments_gdf.crs).reset_index().rename(columns={'index': 'cell_id'})"
      ],
      "metadata": {
        "id": "BMWyNa7H4xA1"
      },
      "execution_count": 3,
      "outputs": []
    },
    {
      "cell_type": "markdown",
      "source": [
        "# Spatial Join and Create Labels"
      ],
      "metadata": {
        "id": "mDAtRbATSnyz"
      }
    },
    {
      "cell_type": "code",
      "source": [
        "# Spatial join: which encampment in which cell\n",
        "joined = gpd.sjoin(encampments_gdf, grid, how=\"left\", predicate=\"within\")\n",
        "labels = joined.groupby(['cell_id', 'start_timestamp']).size().reset_index(name='count')\n",
        "labels['presence'] = (labels['count'] > 0).astype(int)"
      ],
      "metadata": {
        "id": "ynq9cB_I40FK"
      },
      "execution_count": 4,
      "outputs": []
    },
    {
      "cell_type": "markdown",
      "source": [
        "# Create Full Cell x Month Matrix\n"
      ],
      "metadata": {
        "id": "abqyUvp6HY_-"
      }
    },
    {
      "cell_type": "code",
      "source": [
        "# Make full cell x month grid\n",
        "all_months = labels['start_timestamp'].unique()\n",
        "all_cells = grid['cell_id'].unique()\n",
        "\n",
        "full_index = pd.MultiIndex.from_product([all_cells, all_months], names=['cell_id', 'start_timestamp'])\n",
        "full_df = pd.DataFrame(index=full_index).reset_index()\n",
        "full_df['start_timestamp'] = pd.to_datetime(full_df['start_timestamp'], format='%b-%y')\n",
        "labels['start_timestamp'] = pd.to_datetime(labels['start_timestamp'], format='%b-%y')\n",
        "\n",
        "# Merge presence labels into full grid x month DataFrame\n",
        "full_df = full_df.merge(labels[['cell_id', 'start_timestamp', 'presence']], on=['cell_id', 'start_timestamp'], how='left')\n",
        "full_df['presence'] = full_df['presence'].fillna(0).astype(int)"
      ],
      "metadata": {
        "id": "o4arXb63Hs2R"
      },
      "execution_count": 5,
      "outputs": []
    },
    {
      "cell_type": "markdown",
      "source": [
        "# Extract Date and Geo Features"
      ],
      "metadata": {
        "id": "ACSCLWLbSx8U"
      }
    },
    {
      "cell_type": "code",
      "source": [
        "# Add month/year features\n",
        "full_df['month'] = full_df['start_timestamp'].dt.month\n",
        "full_df['year'] = full_df['start_timestamp'].dt.year\n",
        "\n",
        "# Compute centroids for each grid cell (to add lat/lon)\n",
        "grid['centroid'] = grid.geometry.centroid\n",
        "\n",
        "# Reproject centroids to WGS84 (lat/lon) for output\n",
        "grid_centroids = grid[['cell_id', 'centroid']].copy()\n",
        "grid_centroids = grid_centroids.set_geometry('centroid').to_crs(epsg=4326)\n",
        "\n",
        "# Extract lat/lon\n",
        "grid_centroids['lat'] = grid_centroids.geometry.y\n",
        "grid_centroids['lon'] = grid_centroids.geometry.x\n",
        "\n",
        "full_df = full_df.merge(grid_centroids[['cell_id', 'lat', 'lon']], on='cell_id', how='left')\n",
        "print(full_df['presence'].value_counts())"
      ],
      "metadata": {
        "colab": {
          "base_uri": "https://localhost:8080/"
        },
        "id": "lrc8goK-UJXn",
        "outputId": "f73ea163-b6dd-4635-e517-1ef06c7a52a1"
      },
      "execution_count": 6,
      "outputs": [
        {
          "output_type": "stream",
          "name": "stdout",
          "text": [
            "presence\n",
            "0    2579620\n",
            "1       1068\n",
            "Name: count, dtype: int64\n"
          ]
        }
      ]
    },
    {
      "cell_type": "markdown",
      "source": [
        "# Add Temporal Features"
      ],
      "metadata": {
        "id": "FdgO35Y-TAey"
      }
    },
    {
      "cell_type": "code",
      "source": [
        "# ADD TEMPORAL LAG AND TREND FEATURES\n",
        "full_df = full_df.sort_values(['cell_id', 'start_timestamp'])\n",
        "\n",
        "# Previous month presence\n",
        "full_df['lag1'] = full_df.groupby('cell_id')['presence'].shift(1)\n",
        "\n",
        "# 2 months back\n",
        "full_df['lag2'] = full_df.groupby('cell_id')['presence'].shift(2)\n",
        "\n",
        "# Rolling average trend over 3 months\n",
        "full_df['trend_3mo'] = (\n",
        "    full_df.groupby('cell_id')['presence']\n",
        "    .rolling(3, min_periods=1).mean()\n",
        "    .reset_index(level=0, drop=True)\n",
        ")\n",
        "\n",
        "# Fill any NaNs that appear (e.g., for first month in a cell)\n",
        "full_df[['lag1', 'lag2', 'trend_3mo']] = full_df[['lag1', 'lag2', 'trend_3mo']].fillna(0)"
      ],
      "metadata": {
        "id": "Vkx0IdIfUJ6i"
      },
      "execution_count": 7,
      "outputs": []
    },
    {
      "cell_type": "markdown",
      "source": [
        "# Load Services and Compute Distances\n",
        "\n",
        "~1min 40s to un"
      ],
      "metadata": {
        "id": "RssAtIzOTD7F"
      }
    },
    {
      "cell_type": "code",
      "source": [
        "# Function to load service locations and project to grid CRS\n",
        "def load_service(file):\n",
        "  df = pd.read_csv(file)\n",
        "  gdf = gpd.GeoDataFrame(df,\n",
        "    geometry=gpd.points_from_xy(df['lon'], df['lat']),\n",
        "    crs=\"EPSG:4326\"\n",
        "  ).to_crs(grid.crs)\n",
        "  return gdf\n",
        "\n",
        "# Load service points\n",
        "libraries = load_service('rehoused-libraries.csv')\n",
        "foodbanks = load_service('updated-foodbanks.csv')\n",
        "wifi = load_service('rehoused-wifi.csv')\n",
        "washrooms = load_service('rehoused-washrooms.csv')\n",
        "medical = load_service('rehoused-medical-updated.csv')\n",
        "stops = load_service('rehoused-stops.csv')\n",
        "\n",
        "# Compute nearest distances from each grid cell centroid to services\n",
        "def compute_nearest_distance(grid, service_gdf, feature_name):\n",
        "  grid[feature_name] = grid.geometry.centroid.apply(\n",
        "      lambda point: service_gdf.distance(point).min()\n",
        "  )\n",
        "\n",
        "compute_nearest_distance(grid, libraries, 'dist_library')\n",
        "compute_nearest_distance(grid, foodbanks, 'dist_foodbank')\n",
        "compute_nearest_distance(grid, wifi, 'dist_wifi')\n",
        "compute_nearest_distance(grid, washrooms, 'dist_washroom')\n",
        "compute_nearest_distance(grid, medical, 'dist_medical')\n",
        "compute_nearest_distance(grid, stops, 'dist_stop')\n",
        "\n",
        "# Merge distance features into full_df\n",
        "full_df = full_df.merge(grid.drop(columns='geometry'), on='cell_id', how='left')"
      ],
      "metadata": {
        "id": "VnGwLAPC47Cu"
      },
      "execution_count": 8,
      "outputs": []
    },
    {
      "cell_type": "code",
      "source": [
        "print(grid.columns)"
      ],
      "metadata": {
        "colab": {
          "base_uri": "https://localhost:8080/"
        },
        "id": "ezC3OS-TqVv7",
        "outputId": "af4c2ef1-6b75-4b52-f3dc-b8407b3940d5"
      },
      "execution_count": 9,
      "outputs": [
        {
          "output_type": "stream",
          "name": "stdout",
          "text": [
            "Index(['cell_id', 'geometry', 'centroid', 'dist_library', 'dist_foodbank',\n",
            "       'dist_wifi', 'dist_washroom', 'dist_medical', 'dist_stop'],\n",
            "      dtype='object')\n"
          ]
        }
      ]
    },
    {
      "cell_type": "markdown",
      "source": [
        "# Prepare Training Data"
      ],
      "metadata": {
        "id": "p12suMveXbz1"
      }
    },
    {
      "cell_type": "code",
      "source": [
        "# Features for model — now with lag/trend!\n",
        "feature_cols = [\n",
        "    'dist_library', 'dist_foodbank', 'dist_wifi',\n",
        "    'dist_washroom', 'dist_medical', 'dist_stop',\n",
        "    'month', 'year', 'lag1', 'lag2', 'trend_3mo'\n",
        "]\n",
        "\n",
        "# use all available encampment data\n",
        "last_month = full_df['start_timestamp'].max()\n",
        "train_df = full_df.copy()\n",
        "\n",
        "positive = train_df[train_df['presence'] == 1]\n",
        "negative = train_df[train_df['presence'] == 0]\n",
        "\n",
        "negative_downsampled = resample(\n",
        "    negative,\n",
        "    replace=False,\n",
        "    n_samples=len(positive) * 10,\n",
        "    random_state=42\n",
        ")\n",
        "\n",
        "balanced_train_df = pd.concat([positive, negative_downsampled]).sample(frac=1, random_state=42)\n",
        "\n",
        "X_train = balanced_train_df[feature_cols]\n",
        "y_train = balanced_train_df['presence']"
      ],
      "metadata": {
        "id": "nd0h3JB7491G"
      },
      "execution_count": 10,
      "outputs": []
    },
    {
      "cell_type": "markdown",
      "source": [
        "# Train Random Forest Model"
      ],
      "metadata": {
        "id": "KFV44iHqZhW7"
      }
    },
    {
      "cell_type": "code",
      "source": [
        "from sklearn.ensemble import RandomForestClassifier\n",
        "from sklearn.metrics import roc_auc_score, classification_report\n",
        "\n",
        "clf = RandomForestClassifier(\n",
        "    n_estimators=100,\n",
        "    random_state=42,\n",
        "    class_weight='balanced',\n",
        "    max_depth=10,\n",
        "    min_samples_leaf=10\n",
        ")\n",
        "\n",
        "clf.fit(X_train, y_train)\n"
      ],
      "metadata": {
        "colab": {
          "base_uri": "https://localhost:8080/",
          "height": 98
        },
        "id": "3l0SxrOq3H8c",
        "outputId": "c042cb80-dc0d-40cf-8afa-2a9c609da456"
      },
      "execution_count": 11,
      "outputs": [
        {
          "output_type": "execute_result",
          "data": {
            "text/plain": [
              "RandomForestClassifier(class_weight='balanced', max_depth=10,\n",
              "                       min_samples_leaf=10, random_state=42)"
            ],
            "text/html": [
              "<style>#sk-container-id-1 {\n",
              "  /* Definition of color scheme common for light and dark mode */\n",
              "  --sklearn-color-text: #000;\n",
              "  --sklearn-color-text-muted: #666;\n",
              "  --sklearn-color-line: gray;\n",
              "  /* Definition of color scheme for unfitted estimators */\n",
              "  --sklearn-color-unfitted-level-0: #fff5e6;\n",
              "  --sklearn-color-unfitted-level-1: #f6e4d2;\n",
              "  --sklearn-color-unfitted-level-2: #ffe0b3;\n",
              "  --sklearn-color-unfitted-level-3: chocolate;\n",
              "  /* Definition of color scheme for fitted estimators */\n",
              "  --sklearn-color-fitted-level-0: #f0f8ff;\n",
              "  --sklearn-color-fitted-level-1: #d4ebff;\n",
              "  --sklearn-color-fitted-level-2: #b3dbfd;\n",
              "  --sklearn-color-fitted-level-3: cornflowerblue;\n",
              "\n",
              "  /* Specific color for light theme */\n",
              "  --sklearn-color-text-on-default-background: var(--sg-text-color, var(--theme-code-foreground, var(--jp-content-font-color1, black)));\n",
              "  --sklearn-color-background: var(--sg-background-color, var(--theme-background, var(--jp-layout-color0, white)));\n",
              "  --sklearn-color-border-box: var(--sg-text-color, var(--theme-code-foreground, var(--jp-content-font-color1, black)));\n",
              "  --sklearn-color-icon: #696969;\n",
              "\n",
              "  @media (prefers-color-scheme: dark) {\n",
              "    /* Redefinition of color scheme for dark theme */\n",
              "    --sklearn-color-text-on-default-background: var(--sg-text-color, var(--theme-code-foreground, var(--jp-content-font-color1, white)));\n",
              "    --sklearn-color-background: var(--sg-background-color, var(--theme-background, var(--jp-layout-color0, #111)));\n",
              "    --sklearn-color-border-box: var(--sg-text-color, var(--theme-code-foreground, var(--jp-content-font-color1, white)));\n",
              "    --sklearn-color-icon: #878787;\n",
              "  }\n",
              "}\n",
              "\n",
              "#sk-container-id-1 {\n",
              "  color: var(--sklearn-color-text);\n",
              "}\n",
              "\n",
              "#sk-container-id-1 pre {\n",
              "  padding: 0;\n",
              "}\n",
              "\n",
              "#sk-container-id-1 input.sk-hidden--visually {\n",
              "  border: 0;\n",
              "  clip: rect(1px 1px 1px 1px);\n",
              "  clip: rect(1px, 1px, 1px, 1px);\n",
              "  height: 1px;\n",
              "  margin: -1px;\n",
              "  overflow: hidden;\n",
              "  padding: 0;\n",
              "  position: absolute;\n",
              "  width: 1px;\n",
              "}\n",
              "\n",
              "#sk-container-id-1 div.sk-dashed-wrapped {\n",
              "  border: 1px dashed var(--sklearn-color-line);\n",
              "  margin: 0 0.4em 0.5em 0.4em;\n",
              "  box-sizing: border-box;\n",
              "  padding-bottom: 0.4em;\n",
              "  background-color: var(--sklearn-color-background);\n",
              "}\n",
              "\n",
              "#sk-container-id-1 div.sk-container {\n",
              "  /* jupyter's `normalize.less` sets `[hidden] { display: none; }`\n",
              "     but bootstrap.min.css set `[hidden] { display: none !important; }`\n",
              "     so we also need the `!important` here to be able to override the\n",
              "     default hidden behavior on the sphinx rendered scikit-learn.org.\n",
              "     See: https://github.com/scikit-learn/scikit-learn/issues/21755 */\n",
              "  display: inline-block !important;\n",
              "  position: relative;\n",
              "}\n",
              "\n",
              "#sk-container-id-1 div.sk-text-repr-fallback {\n",
              "  display: none;\n",
              "}\n",
              "\n",
              "div.sk-parallel-item,\n",
              "div.sk-serial,\n",
              "div.sk-item {\n",
              "  /* draw centered vertical line to link estimators */\n",
              "  background-image: linear-gradient(var(--sklearn-color-text-on-default-background), var(--sklearn-color-text-on-default-background));\n",
              "  background-size: 2px 100%;\n",
              "  background-repeat: no-repeat;\n",
              "  background-position: center center;\n",
              "}\n",
              "\n",
              "/* Parallel-specific style estimator block */\n",
              "\n",
              "#sk-container-id-1 div.sk-parallel-item::after {\n",
              "  content: \"\";\n",
              "  width: 100%;\n",
              "  border-bottom: 2px solid var(--sklearn-color-text-on-default-background);\n",
              "  flex-grow: 1;\n",
              "}\n",
              "\n",
              "#sk-container-id-1 div.sk-parallel {\n",
              "  display: flex;\n",
              "  align-items: stretch;\n",
              "  justify-content: center;\n",
              "  background-color: var(--sklearn-color-background);\n",
              "  position: relative;\n",
              "}\n",
              "\n",
              "#sk-container-id-1 div.sk-parallel-item {\n",
              "  display: flex;\n",
              "  flex-direction: column;\n",
              "}\n",
              "\n",
              "#sk-container-id-1 div.sk-parallel-item:first-child::after {\n",
              "  align-self: flex-end;\n",
              "  width: 50%;\n",
              "}\n",
              "\n",
              "#sk-container-id-1 div.sk-parallel-item:last-child::after {\n",
              "  align-self: flex-start;\n",
              "  width: 50%;\n",
              "}\n",
              "\n",
              "#sk-container-id-1 div.sk-parallel-item:only-child::after {\n",
              "  width: 0;\n",
              "}\n",
              "\n",
              "/* Serial-specific style estimator block */\n",
              "\n",
              "#sk-container-id-1 div.sk-serial {\n",
              "  display: flex;\n",
              "  flex-direction: column;\n",
              "  align-items: center;\n",
              "  background-color: var(--sklearn-color-background);\n",
              "  padding-right: 1em;\n",
              "  padding-left: 1em;\n",
              "}\n",
              "\n",
              "\n",
              "/* Toggleable style: style used for estimator/Pipeline/ColumnTransformer box that is\n",
              "clickable and can be expanded/collapsed.\n",
              "- Pipeline and ColumnTransformer use this feature and define the default style\n",
              "- Estimators will overwrite some part of the style using the `sk-estimator` class\n",
              "*/\n",
              "\n",
              "/* Pipeline and ColumnTransformer style (default) */\n",
              "\n",
              "#sk-container-id-1 div.sk-toggleable {\n",
              "  /* Default theme specific background. It is overwritten whether we have a\n",
              "  specific estimator or a Pipeline/ColumnTransformer */\n",
              "  background-color: var(--sklearn-color-background);\n",
              "}\n",
              "\n",
              "/* Toggleable label */\n",
              "#sk-container-id-1 label.sk-toggleable__label {\n",
              "  cursor: pointer;\n",
              "  display: flex;\n",
              "  width: 100%;\n",
              "  margin-bottom: 0;\n",
              "  padding: 0.5em;\n",
              "  box-sizing: border-box;\n",
              "  text-align: center;\n",
              "  align-items: start;\n",
              "  justify-content: space-between;\n",
              "  gap: 0.5em;\n",
              "}\n",
              "\n",
              "#sk-container-id-1 label.sk-toggleable__label .caption {\n",
              "  font-size: 0.6rem;\n",
              "  font-weight: lighter;\n",
              "  color: var(--sklearn-color-text-muted);\n",
              "}\n",
              "\n",
              "#sk-container-id-1 label.sk-toggleable__label-arrow:before {\n",
              "  /* Arrow on the left of the label */\n",
              "  content: \"▸\";\n",
              "  float: left;\n",
              "  margin-right: 0.25em;\n",
              "  color: var(--sklearn-color-icon);\n",
              "}\n",
              "\n",
              "#sk-container-id-1 label.sk-toggleable__label-arrow:hover:before {\n",
              "  color: var(--sklearn-color-text);\n",
              "}\n",
              "\n",
              "/* Toggleable content - dropdown */\n",
              "\n",
              "#sk-container-id-1 div.sk-toggleable__content {\n",
              "  max-height: 0;\n",
              "  max-width: 0;\n",
              "  overflow: hidden;\n",
              "  text-align: left;\n",
              "  /* unfitted */\n",
              "  background-color: var(--sklearn-color-unfitted-level-0);\n",
              "}\n",
              "\n",
              "#sk-container-id-1 div.sk-toggleable__content.fitted {\n",
              "  /* fitted */\n",
              "  background-color: var(--sklearn-color-fitted-level-0);\n",
              "}\n",
              "\n",
              "#sk-container-id-1 div.sk-toggleable__content pre {\n",
              "  margin: 0.2em;\n",
              "  border-radius: 0.25em;\n",
              "  color: var(--sklearn-color-text);\n",
              "  /* unfitted */\n",
              "  background-color: var(--sklearn-color-unfitted-level-0);\n",
              "}\n",
              "\n",
              "#sk-container-id-1 div.sk-toggleable__content.fitted pre {\n",
              "  /* unfitted */\n",
              "  background-color: var(--sklearn-color-fitted-level-0);\n",
              "}\n",
              "\n",
              "#sk-container-id-1 input.sk-toggleable__control:checked~div.sk-toggleable__content {\n",
              "  /* Expand drop-down */\n",
              "  max-height: 200px;\n",
              "  max-width: 100%;\n",
              "  overflow: auto;\n",
              "}\n",
              "\n",
              "#sk-container-id-1 input.sk-toggleable__control:checked~label.sk-toggleable__label-arrow:before {\n",
              "  content: \"▾\";\n",
              "}\n",
              "\n",
              "/* Pipeline/ColumnTransformer-specific style */\n",
              "\n",
              "#sk-container-id-1 div.sk-label input.sk-toggleable__control:checked~label.sk-toggleable__label {\n",
              "  color: var(--sklearn-color-text);\n",
              "  background-color: var(--sklearn-color-unfitted-level-2);\n",
              "}\n",
              "\n",
              "#sk-container-id-1 div.sk-label.fitted input.sk-toggleable__control:checked~label.sk-toggleable__label {\n",
              "  background-color: var(--sklearn-color-fitted-level-2);\n",
              "}\n",
              "\n",
              "/* Estimator-specific style */\n",
              "\n",
              "/* Colorize estimator box */\n",
              "#sk-container-id-1 div.sk-estimator input.sk-toggleable__control:checked~label.sk-toggleable__label {\n",
              "  /* unfitted */\n",
              "  background-color: var(--sklearn-color-unfitted-level-2);\n",
              "}\n",
              "\n",
              "#sk-container-id-1 div.sk-estimator.fitted input.sk-toggleable__control:checked~label.sk-toggleable__label {\n",
              "  /* fitted */\n",
              "  background-color: var(--sklearn-color-fitted-level-2);\n",
              "}\n",
              "\n",
              "#sk-container-id-1 div.sk-label label.sk-toggleable__label,\n",
              "#sk-container-id-1 div.sk-label label {\n",
              "  /* The background is the default theme color */\n",
              "  color: var(--sklearn-color-text-on-default-background);\n",
              "}\n",
              "\n",
              "/* On hover, darken the color of the background */\n",
              "#sk-container-id-1 div.sk-label:hover label.sk-toggleable__label {\n",
              "  color: var(--sklearn-color-text);\n",
              "  background-color: var(--sklearn-color-unfitted-level-2);\n",
              "}\n",
              "\n",
              "/* Label box, darken color on hover, fitted */\n",
              "#sk-container-id-1 div.sk-label.fitted:hover label.sk-toggleable__label.fitted {\n",
              "  color: var(--sklearn-color-text);\n",
              "  background-color: var(--sklearn-color-fitted-level-2);\n",
              "}\n",
              "\n",
              "/* Estimator label */\n",
              "\n",
              "#sk-container-id-1 div.sk-label label {\n",
              "  font-family: monospace;\n",
              "  font-weight: bold;\n",
              "  display: inline-block;\n",
              "  line-height: 1.2em;\n",
              "}\n",
              "\n",
              "#sk-container-id-1 div.sk-label-container {\n",
              "  text-align: center;\n",
              "}\n",
              "\n",
              "/* Estimator-specific */\n",
              "#sk-container-id-1 div.sk-estimator {\n",
              "  font-family: monospace;\n",
              "  border: 1px dotted var(--sklearn-color-border-box);\n",
              "  border-radius: 0.25em;\n",
              "  box-sizing: border-box;\n",
              "  margin-bottom: 0.5em;\n",
              "  /* unfitted */\n",
              "  background-color: var(--sklearn-color-unfitted-level-0);\n",
              "}\n",
              "\n",
              "#sk-container-id-1 div.sk-estimator.fitted {\n",
              "  /* fitted */\n",
              "  background-color: var(--sklearn-color-fitted-level-0);\n",
              "}\n",
              "\n",
              "/* on hover */\n",
              "#sk-container-id-1 div.sk-estimator:hover {\n",
              "  /* unfitted */\n",
              "  background-color: var(--sklearn-color-unfitted-level-2);\n",
              "}\n",
              "\n",
              "#sk-container-id-1 div.sk-estimator.fitted:hover {\n",
              "  /* fitted */\n",
              "  background-color: var(--sklearn-color-fitted-level-2);\n",
              "}\n",
              "\n",
              "/* Specification for estimator info (e.g. \"i\" and \"?\") */\n",
              "\n",
              "/* Common style for \"i\" and \"?\" */\n",
              "\n",
              ".sk-estimator-doc-link,\n",
              "a:link.sk-estimator-doc-link,\n",
              "a:visited.sk-estimator-doc-link {\n",
              "  float: right;\n",
              "  font-size: smaller;\n",
              "  line-height: 1em;\n",
              "  font-family: monospace;\n",
              "  background-color: var(--sklearn-color-background);\n",
              "  border-radius: 1em;\n",
              "  height: 1em;\n",
              "  width: 1em;\n",
              "  text-decoration: none !important;\n",
              "  margin-left: 0.5em;\n",
              "  text-align: center;\n",
              "  /* unfitted */\n",
              "  border: var(--sklearn-color-unfitted-level-1) 1pt solid;\n",
              "  color: var(--sklearn-color-unfitted-level-1);\n",
              "}\n",
              "\n",
              ".sk-estimator-doc-link.fitted,\n",
              "a:link.sk-estimator-doc-link.fitted,\n",
              "a:visited.sk-estimator-doc-link.fitted {\n",
              "  /* fitted */\n",
              "  border: var(--sklearn-color-fitted-level-1) 1pt solid;\n",
              "  color: var(--sklearn-color-fitted-level-1);\n",
              "}\n",
              "\n",
              "/* On hover */\n",
              "div.sk-estimator:hover .sk-estimator-doc-link:hover,\n",
              ".sk-estimator-doc-link:hover,\n",
              "div.sk-label-container:hover .sk-estimator-doc-link:hover,\n",
              ".sk-estimator-doc-link:hover {\n",
              "  /* unfitted */\n",
              "  background-color: var(--sklearn-color-unfitted-level-3);\n",
              "  color: var(--sklearn-color-background);\n",
              "  text-decoration: none;\n",
              "}\n",
              "\n",
              "div.sk-estimator.fitted:hover .sk-estimator-doc-link.fitted:hover,\n",
              ".sk-estimator-doc-link.fitted:hover,\n",
              "div.sk-label-container:hover .sk-estimator-doc-link.fitted:hover,\n",
              ".sk-estimator-doc-link.fitted:hover {\n",
              "  /* fitted */\n",
              "  background-color: var(--sklearn-color-fitted-level-3);\n",
              "  color: var(--sklearn-color-background);\n",
              "  text-decoration: none;\n",
              "}\n",
              "\n",
              "/* Span, style for the box shown on hovering the info icon */\n",
              ".sk-estimator-doc-link span {\n",
              "  display: none;\n",
              "  z-index: 9999;\n",
              "  position: relative;\n",
              "  font-weight: normal;\n",
              "  right: .2ex;\n",
              "  padding: .5ex;\n",
              "  margin: .5ex;\n",
              "  width: min-content;\n",
              "  min-width: 20ex;\n",
              "  max-width: 50ex;\n",
              "  color: var(--sklearn-color-text);\n",
              "  box-shadow: 2pt 2pt 4pt #999;\n",
              "  /* unfitted */\n",
              "  background: var(--sklearn-color-unfitted-level-0);\n",
              "  border: .5pt solid var(--sklearn-color-unfitted-level-3);\n",
              "}\n",
              "\n",
              ".sk-estimator-doc-link.fitted span {\n",
              "  /* fitted */\n",
              "  background: var(--sklearn-color-fitted-level-0);\n",
              "  border: var(--sklearn-color-fitted-level-3);\n",
              "}\n",
              "\n",
              ".sk-estimator-doc-link:hover span {\n",
              "  display: block;\n",
              "}\n",
              "\n",
              "/* \"?\"-specific style due to the `<a>` HTML tag */\n",
              "\n",
              "#sk-container-id-1 a.estimator_doc_link {\n",
              "  float: right;\n",
              "  font-size: 1rem;\n",
              "  line-height: 1em;\n",
              "  font-family: monospace;\n",
              "  background-color: var(--sklearn-color-background);\n",
              "  border-radius: 1rem;\n",
              "  height: 1rem;\n",
              "  width: 1rem;\n",
              "  text-decoration: none;\n",
              "  /* unfitted */\n",
              "  color: var(--sklearn-color-unfitted-level-1);\n",
              "  border: var(--sklearn-color-unfitted-level-1) 1pt solid;\n",
              "}\n",
              "\n",
              "#sk-container-id-1 a.estimator_doc_link.fitted {\n",
              "  /* fitted */\n",
              "  border: var(--sklearn-color-fitted-level-1) 1pt solid;\n",
              "  color: var(--sklearn-color-fitted-level-1);\n",
              "}\n",
              "\n",
              "/* On hover */\n",
              "#sk-container-id-1 a.estimator_doc_link:hover {\n",
              "  /* unfitted */\n",
              "  background-color: var(--sklearn-color-unfitted-level-3);\n",
              "  color: var(--sklearn-color-background);\n",
              "  text-decoration: none;\n",
              "}\n",
              "\n",
              "#sk-container-id-1 a.estimator_doc_link.fitted:hover {\n",
              "  /* fitted */\n",
              "  background-color: var(--sklearn-color-fitted-level-3);\n",
              "}\n",
              "</style><div id=\"sk-container-id-1\" class=\"sk-top-container\"><div class=\"sk-text-repr-fallback\"><pre>RandomForestClassifier(class_weight=&#x27;balanced&#x27;, max_depth=10,\n",
              "                       min_samples_leaf=10, random_state=42)</pre><b>In a Jupyter environment, please rerun this cell to show the HTML representation or trust the notebook. <br />On GitHub, the HTML representation is unable to render, please try loading this page with nbviewer.org.</b></div><div class=\"sk-container\" hidden><div class=\"sk-item\"><div class=\"sk-estimator fitted sk-toggleable\"><input class=\"sk-toggleable__control sk-hidden--visually\" id=\"sk-estimator-id-1\" type=\"checkbox\" checked><label for=\"sk-estimator-id-1\" class=\"sk-toggleable__label fitted sk-toggleable__label-arrow\"><div><div>RandomForestClassifier</div></div><div><a class=\"sk-estimator-doc-link fitted\" rel=\"noreferrer\" target=\"_blank\" href=\"https://scikit-learn.org/1.6/modules/generated/sklearn.ensemble.RandomForestClassifier.html\">?<span>Documentation for RandomForestClassifier</span></a><span class=\"sk-estimator-doc-link fitted\">i<span>Fitted</span></span></div></label><div class=\"sk-toggleable__content fitted\"><pre>RandomForestClassifier(class_weight=&#x27;balanced&#x27;, max_depth=10,\n",
              "                       min_samples_leaf=10, random_state=42)</pre></div> </div></div></div></div>"
            ]
          },
          "metadata": {},
          "execution_count": 11
        }
      ]
    },
    {
      "cell_type": "markdown",
      "source": [
        "# Generate and Predict Future Months"
      ],
      "metadata": {
        "id": "x5F5SLLkZg9Z"
      }
    },
    {
      "cell_type": "code",
      "source": [
        "# create future 12 months\n",
        "from pandas.tseries.offsets import MonthBegin\n",
        "\n",
        "last_month = full_df['start_timestamp'].max()\n",
        "\n",
        "future_months = pd.date_range(\n",
        "    start=last_month + MonthBegin(1),\n",
        "    periods=12,\n",
        "    freq='MS'\n",
        ")\n",
        "\n",
        "future_index = pd.MultiIndex.from_product(\n",
        "    [grid['cell_id'].unique(), future_months],\n",
        "    names=['cell_id', 'start_timestamp']\n",
        ")\n",
        "future_df = pd.DataFrame(index=future_index).reset_index()\n",
        "\n",
        "# concat with existing data\n",
        "full_future_df = pd.concat([full_df, future_df], ignore_index=True)\n",
        "full_future_df = full_future_df.sort_values(['cell_id', 'start_timestamp'])\n",
        "\n",
        "# fill presence NA (for future rows)\n",
        "full_future_df['presence'] = full_future_df['presence'].fillna(0).astype(int)\n",
        "\n",
        "# recalc lag/trend\n",
        "full_future_df['lag1'] = full_future_df.groupby('cell_id')['presence'].shift(1)\n",
        "full_future_df['lag2'] = full_future_df.groupby('cell_id')['presence'].shift(2)\n",
        "full_future_df['trend_3mo'] = (\n",
        "    full_future_df.groupby('cell_id')['presence']\n",
        "    .rolling(3, min_periods=1).mean()\n",
        "    .reset_index(level=0, drop=True)\n",
        ")\n",
        "full_future_df[['lag1', 'lag2', 'trend_3mo']] = full_future_df[['lag1', 'lag2', 'trend_3mo']].fillna(0)\n",
        "\n",
        "# add month/year\n",
        "full_future_df['month'] = full_future_df['start_timestamp'].dt.month\n",
        "full_future_df['year'] = full_future_df['start_timestamp'].dt.year\n",
        "\n"
      ],
      "metadata": {
        "id": "kmeGDAnqstTp"
      },
      "execution_count": 12,
      "outputs": []
    },
    {
      "cell_type": "code",
      "source": [
        "# add distance features (ensure they're in grid)\n",
        "distance_cols = ['dist_library', 'dist_foodbank', 'dist_wifi', 'dist_washroom', 'dist_medical', 'dist_stop']\n",
        "# 💡 check if distance features are already in the DataFrame\n",
        "if not all(col in full_future_df.columns for col in distance_cols):\n",
        "    full_future_df = full_future_df.merge(\n",
        "        grid[['cell_id'] + distance_cols],\n",
        "        on='cell_id',\n",
        "        how='left'\n",
        "    )"
      ],
      "metadata": {
        "id": "iM-a0gsGw8ox"
      },
      "execution_count": 16,
      "outputs": []
    },
    {
      "cell_type": "code",
      "source": [
        "# map lat/lon (can be from full_df or grid_centroids!)\n",
        "lat_lon_map = full_df.drop_duplicates(subset='cell_id').set_index('cell_id')[['lat', 'lon']]\n",
        "full_future_df['lat'] = full_future_df['cell_id'].map(lat_lon_map['lat'])\n",
        "full_future_df['lon'] = full_future_df['cell_id'].map(lat_lon_map['lon'])"
      ],
      "metadata": {
        "id": "hjCvq0rhu6VJ"
      },
      "execution_count": 17,
      "outputs": []
    },
    {
      "cell_type": "code",
      "source": [
        "# now PREDICT!\n",
        "future_mask = full_future_df['start_timestamp'] > last_month\n",
        "print(\"📋 checking feature_cols before prediction:\")\n",
        "print(\"➡️ feature_cols:\", feature_cols)\n",
        "print(\"✅ columns in full_future_df:\", full_future_df.columns.tolist())\n",
        "print(\"❌ missing from full_future_df:\", [col for col in feature_cols if col not in full_future_df.columns])\n",
        "\n",
        "X_forecast = full_future_df.loc[future_mask, feature_cols]\n",
        "\n",
        "y_proba = clf.predict_proba(X_forecast)[:, 1]\n",
        "full_future_df.loc[future_mask, 'pred_proba'] = y_proba\n",
        "full_future_df.loc[future_mask, 'pred_class'] = (y_proba > 0.8).astype(int)"
      ],
      "metadata": {
        "colab": {
          "base_uri": "https://localhost:8080/"
        },
        "id": "V2Qk9XP5spx2",
        "outputId": "93fef8a9-4330-4d4a-b2c2-52f756cce831"
      },
      "execution_count": 18,
      "outputs": [
        {
          "output_type": "stream",
          "name": "stdout",
          "text": [
            "📋 checking feature_cols before prediction:\n",
            "➡️ feature_cols: ['dist_library', 'dist_foodbank', 'dist_wifi', 'dist_washroom', 'dist_medical', 'dist_stop', 'month', 'year', 'lag1', 'lag2', 'trend_3mo']\n",
            "✅ columns in full_future_df: ['cell_id', 'start_timestamp', 'presence', 'month', 'year', 'lat', 'lon', 'lag1', 'lag2', 'trend_3mo', 'centroid', 'dist_library_x', 'dist_foodbank_x', 'dist_wifi_x', 'dist_washroom_x', 'dist_medical_x', 'dist_stop_x', 'dist_library_y', 'dist_foodbank_y', 'dist_wifi_y', 'dist_washroom_y', 'dist_medical_y', 'dist_stop_y', 'dist_library', 'dist_foodbank', 'dist_wifi', 'dist_washroom', 'dist_medical', 'dist_stop']\n",
            "❌ missing from full_future_df: []\n"
          ]
        }
      ]
    },
    {
      "cell_type": "markdown",
      "source": [
        "# Save Data to future_encampment_predictions.csv and Download"
      ],
      "metadata": {
        "id": "gOsY1zJpTPny"
      }
    },
    {
      "cell_type": "code",
      "source": [
        "# Save future predictions\n",
        "cols_to_save = ['cell_id', 'start_timestamp', 'lat', 'lon', 'presence', 'pred_proba', 'pred_class'] + feature_cols\n",
        "full_future_df[full_future_df['start_timestamp'] > last_month][cols_to_save].to_csv('encampment_forecast.csv', index=False)\n",
        "\n",
        "# Download to local\n",
        "from google.colab import files\n",
        "files.download('encampment_forecast.csv')\n",
        "\n",
        "print(\"✅ Done! File ready to download.\")"
      ],
      "metadata": {
        "id": "akjCkmSL5x3A",
        "colab": {
          "base_uri": "https://localhost:8080/",
          "height": 35
        },
        "outputId": "5114b5df-8d06-492a-c938-da9bb90e2c94"
      },
      "execution_count": 24,
      "outputs": [
        {
          "output_type": "display_data",
          "data": {
            "text/plain": [
              "<IPython.core.display.Javascript object>"
            ],
            "application/javascript": [
              "\n",
              "    async function download(id, filename, size) {\n",
              "      if (!google.colab.kernel.accessAllowed) {\n",
              "        return;\n",
              "      }\n",
              "      const div = document.createElement('div');\n",
              "      const label = document.createElement('label');\n",
              "      label.textContent = `Downloading \"${filename}\": `;\n",
              "      div.appendChild(label);\n",
              "      const progress = document.createElement('progress');\n",
              "      progress.max = size;\n",
              "      div.appendChild(progress);\n",
              "      document.body.appendChild(div);\n",
              "\n",
              "      const buffers = [];\n",
              "      let downloaded = 0;\n",
              "\n",
              "      const channel = await google.colab.kernel.comms.open(id);\n",
              "      // Send a message to notify the kernel that we're ready.\n",
              "      channel.send({})\n",
              "\n",
              "      for await (const message of channel.messages) {\n",
              "        // Send a message to notify the kernel that we're ready.\n",
              "        channel.send({})\n",
              "        if (message.buffers) {\n",
              "          for (const buffer of message.buffers) {\n",
              "            buffers.push(buffer);\n",
              "            downloaded += buffer.byteLength;\n",
              "            progress.value = downloaded;\n",
              "          }\n",
              "        }\n",
              "      }\n",
              "      const blob = new Blob(buffers, {type: 'application/binary'});\n",
              "      const a = document.createElement('a');\n",
              "      a.href = window.URL.createObjectURL(blob);\n",
              "      a.download = filename;\n",
              "      div.appendChild(a);\n",
              "      a.click();\n",
              "      div.remove();\n",
              "    }\n",
              "  "
            ]
          },
          "metadata": {}
        },
        {
          "output_type": "display_data",
          "data": {
            "text/plain": [
              "<IPython.core.display.Javascript object>"
            ],
            "application/javascript": [
              "download(\"download_312703fa-6f50-413f-a33b-3ef60bfd4d1e\", \"encampment_forecast.csv\", 139265147)"
            ]
          },
          "metadata": {}
        },
        {
          "output_type": "stream",
          "name": "stdout",
          "text": [
            "✅ Done! File ready to download.\n"
          ]
        }
      ]
    },
    {
      "cell_type": "markdown",
      "source": [
        "# Tests"
      ],
      "metadata": {
        "id": "tUdEwpqBaB6g"
      }
    },
    {
      "cell_type": "code",
      "source": [
        "import matplotlib.pyplot as plt\n",
        "\n",
        "high_preds = full_future_df.loc[full_future_df['start_timestamp'] > last_month, 'pred_proba']\n",
        "high_preds[high_preds > 0.75].hist(bins=30)\n",
        "plt.title(\"Distribution of High Prediction Probabilities\")\n",
        "plt.xlabel(\"pred_proba\")\n",
        "plt.ylabel(\"Frequency\")\n",
        "plt.show()\n"
      ],
      "metadata": {
        "id": "Q6EDlaS7aDTD",
        "colab": {
          "base_uri": "https://localhost:8080/",
          "height": 472
        },
        "outputId": "3dd41542-042e-4176-cf37-19bf66bfab24"
      },
      "execution_count": 25,
      "outputs": [
        {
          "output_type": "display_data",
          "data": {
            "text/plain": [
              "<Figure size 640x480 with 1 Axes>"
            ],
            "image/png": "[encoded data removed]"
          },
          "metadata": {}
        }
      ]
    }
  ]
}